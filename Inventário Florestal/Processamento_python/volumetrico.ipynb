{
  "nbformat": 4,
  "nbformat_minor": 0,
  "metadata": {
    "colab": {
      "name": "volumetrico2.ipynb",
      "provenance": [],
      "collapsed_sections": []
    },
    "kernelspec": {
      "name": "python3",
      "display_name": "Python 3"
    },
    "language_info": {
      "name": "python"
    }
  },
  "cells": [
    {
      "cell_type": "code",
      "execution_count": 1,
      "metadata": {
        "id": "QnuvhjDdirLn"
      },
      "outputs": [],
      "source": [
        "import pandas as pd\n",
        "import numpy as np\n",
        "import matplotlib.pyplot as plt\n",
        "from sklearn.linear_model import LinearRegression"
      ]
    },
    {
      "cell_type": "markdown",
      "source": [
        "#Cálculos necessários "
      ],
      "metadata": {
        "id": "kSy5yTQld9HR"
      }
    },
    {
      "cell_type": "code",
      "source": [
        "cubagem_secao = pd.read_csv('/content/BR-SANTAVERONICA-DB-02 - Cubagem.csv', encoding='latin-1', sep =';', on_bad_lines='skip')\n",
        "cubagem_secao.columns "
      ],
      "metadata": {
        "id": "wjDx2PHkGp7b",
        "colab": {
          "base_uri": "https://localhost:8080/"
        },
        "outputId": "24f5124c-7b9e-456b-8f66-75a1db407214"
      },
      "execution_count": 2,
      "outputs": [
        {
          "output_type": "execute_result",
          "data": {
            "text/plain": [
              "Index(['Código da Árvore', 'DAP', 'HT', 'Altura da secção',\n",
              "       'Diâmetro da secção', 'Espessura da casca', 'talhao',\n",
              "       'material_genetico_cod', 'idade', 'V5casca'],\n",
              "      dtype='object')"
            ]
          },
          "metadata": {},
          "execution_count": 2
        }
      ]
    },
    {
      "cell_type": "code",
      "source": [
        "# cálculo da área secional\n",
        "cubagem_secao['AS'] = np.pi*(cubagem_secao['Diâmetro da secção'].pow(2)) / 40000"
      ],
      "metadata": {
        "id": "TlTQzitPHKB6"
      },
      "execution_count": 3,
      "outputs": []
    },
    {
      "cell_type": "code",
      "source": [
        "# cálculo Smalian para volume total \n",
        "\n",
        "cubagem_secao['Vtotalcasca'] = 0\n",
        "\n",
        "for i in range(0,len(cubagem_secao['AS'])-1):\n",
        " \n",
        "  if cubagem_secao['Código da Árvore'].loc[i] ==  cubagem_secao['Código da Árvore'].loc[i+1]:\n",
        "\n",
        "       cubagem_secao['Vtotalcasca'].loc[i] =  ((cubagem_secao['AS'].loc[i]+cubagem_secao['AS'].loc[1+i])/2)*(cubagem_secao['Altura da secção'].loc[i+1]-cubagem_secao['Altura da secção'].loc[i])\n",
        "\n",
        "  else: \n",
        "\n",
        "     cubagem_secao['Vtotalcasca'][i] = 0  "
      ],
      "metadata": {
        "colab": {
          "base_uri": "https://localhost:8080/"
        },
        "id": "KHPcxQpTPxoa",
        "outputId": "0fc07b7a-b4cb-4667-d7e8-350316ae37c3"
      },
      "execution_count": 4,
      "outputs": [
        {
          "output_type": "stream",
          "name": "stderr",
          "text": [
            "/usr/local/lib/python3.7/dist-packages/pandas/core/indexing.py:1732: SettingWithCopyWarning: \n",
            "A value is trying to be set on a copy of a slice from a DataFrame\n",
            "\n",
            "See the caveats in the documentation: https://pandas.pydata.org/pandas-docs/stable/user_guide/indexing.html#returning-a-view-versus-a-copy\n",
            "  self._setitem_single_block(indexer, value, name)\n"
          ]
        }
      ]
    },
    {
      "cell_type": "code",
      "source": [
        "soma = cubagem_secao[['Código da Árvore','V5casca','Vtotalcasca']].groupby('Código da Árvore').sum()"
      ],
      "metadata": {
        "id": "njHx7Uh3hDof"
      },
      "execution_count": 8,
      "outputs": []
    },
    {
      "cell_type": "code",
      "source": [
        "media = cubagem_secao[['Código da Árvore','DAP', 'HT']].groupby('Código da Árvore').mean()"
      ],
      "metadata": {
        "id": "4R63Mr5VhDt2"
      },
      "execution_count": 9,
      "outputs": []
    },
    {
      "cell_type": "code",
      "source": [
        "cubagem = pd.merge(media, soma, how = 'inner', on = 'Código da Árvore')"
      ],
      "metadata": {
        "id": "TqoveinblCFN"
      },
      "execution_count": 10,
      "outputs": []
    },
    {
      "cell_type": "code",
      "source": [
        "cubagem.head() "
      ],
      "metadata": {
        "colab": {
          "base_uri": "https://localhost:8080/",
          "height": 238
        },
        "id": "p7MeBEj0lCKE",
        "outputId": "b17eb675-0986-444a-fcd1-2f0b264321db"
      },
      "execution_count": 11,
      "outputs": [
        {
          "output_type": "execute_result",
          "data": {
            "text/plain": [
              "                    DAP    HT   V5casca  Vtotalcasca\n",
              "Código da Árvore                                    \n",
              "1                 12.00  24.8  0.110448     0.110453\n",
              "2                 12.50  26.4  0.131897     0.131912\n",
              "3                 13.00  27.3  0.131415     0.131417\n",
              "4                 13.00  28.4  0.157841     0.157843\n",
              "5                 13.75  26.9  0.167208     0.167211"
            ],
            "text/html": [
              "\n",
              "  <div id=\"df-7c1d2011-5bf9-4693-abe1-8c4b09a154fc\">\n",
              "    <div class=\"colab-df-container\">\n",
              "      <div>\n",
              "<style scoped>\n",
              "    .dataframe tbody tr th:only-of-type {\n",
              "        vertical-align: middle;\n",
              "    }\n",
              "\n",
              "    .dataframe tbody tr th {\n",
              "        vertical-align: top;\n",
              "    }\n",
              "\n",
              "    .dataframe thead th {\n",
              "        text-align: right;\n",
              "    }\n",
              "</style>\n",
              "<table border=\"1\" class=\"dataframe\">\n",
              "  <thead>\n",
              "    <tr style=\"text-align: right;\">\n",
              "      <th></th>\n",
              "      <th>DAP</th>\n",
              "      <th>HT</th>\n",
              "      <th>V5casca</th>\n",
              "      <th>Vtotalcasca</th>\n",
              "    </tr>\n",
              "    <tr>\n",
              "      <th>Código da Árvore</th>\n",
              "      <th></th>\n",
              "      <th></th>\n",
              "      <th></th>\n",
              "      <th></th>\n",
              "    </tr>\n",
              "  </thead>\n",
              "  <tbody>\n",
              "    <tr>\n",
              "      <th>1</th>\n",
              "      <td>12.00</td>\n",
              "      <td>24.8</td>\n",
              "      <td>0.110448</td>\n",
              "      <td>0.110453</td>\n",
              "    </tr>\n",
              "    <tr>\n",
              "      <th>2</th>\n",
              "      <td>12.50</td>\n",
              "      <td>26.4</td>\n",
              "      <td>0.131897</td>\n",
              "      <td>0.131912</td>\n",
              "    </tr>\n",
              "    <tr>\n",
              "      <th>3</th>\n",
              "      <td>13.00</td>\n",
              "      <td>27.3</td>\n",
              "      <td>0.131415</td>\n",
              "      <td>0.131417</td>\n",
              "    </tr>\n",
              "    <tr>\n",
              "      <th>4</th>\n",
              "      <td>13.00</td>\n",
              "      <td>28.4</td>\n",
              "      <td>0.157841</td>\n",
              "      <td>0.157843</td>\n",
              "    </tr>\n",
              "    <tr>\n",
              "      <th>5</th>\n",
              "      <td>13.75</td>\n",
              "      <td>26.9</td>\n",
              "      <td>0.167208</td>\n",
              "      <td>0.167211</td>\n",
              "    </tr>\n",
              "  </tbody>\n",
              "</table>\n",
              "</div>\n",
              "      <button class=\"colab-df-convert\" onclick=\"convertToInteractive('df-7c1d2011-5bf9-4693-abe1-8c4b09a154fc')\"\n",
              "              title=\"Convert this dataframe to an interactive table.\"\n",
              "              style=\"display:none;\">\n",
              "        \n",
              "  <svg xmlns=\"http://www.w3.org/2000/svg\" height=\"24px\"viewBox=\"0 0 24 24\"\n",
              "       width=\"24px\">\n",
              "    <path d=\"M0 0h24v24H0V0z\" fill=\"none\"/>\n",
              "    <path d=\"M18.56 5.44l.94 2.06.94-2.06 2.06-.94-2.06-.94-.94-2.06-.94 2.06-2.06.94zm-11 1L8.5 8.5l.94-2.06 2.06-.94-2.06-.94L8.5 2.5l-.94 2.06-2.06.94zm10 10l.94 2.06.94-2.06 2.06-.94-2.06-.94-.94-2.06-.94 2.06-2.06.94z\"/><path d=\"M17.41 7.96l-1.37-1.37c-.4-.4-.92-.59-1.43-.59-.52 0-1.04.2-1.43.59L10.3 9.45l-7.72 7.72c-.78.78-.78 2.05 0 2.83L4 21.41c.39.39.9.59 1.41.59.51 0 1.02-.2 1.41-.59l7.78-7.78 2.81-2.81c.8-.78.8-2.07 0-2.86zM5.41 20L4 18.59l7.72-7.72 1.47 1.35L5.41 20z\"/>\n",
              "  </svg>\n",
              "      </button>\n",
              "      \n",
              "  <style>\n",
              "    .colab-df-container {\n",
              "      display:flex;\n",
              "      flex-wrap:wrap;\n",
              "      gap: 12px;\n",
              "    }\n",
              "\n",
              "    .colab-df-convert {\n",
              "      background-color: #E8F0FE;\n",
              "      border: none;\n",
              "      border-radius: 50%;\n",
              "      cursor: pointer;\n",
              "      display: none;\n",
              "      fill: #1967D2;\n",
              "      height: 32px;\n",
              "      padding: 0 0 0 0;\n",
              "      width: 32px;\n",
              "    }\n",
              "\n",
              "    .colab-df-convert:hover {\n",
              "      background-color: #E2EBFA;\n",
              "      box-shadow: 0px 1px 2px rgba(60, 64, 67, 0.3), 0px 1px 3px 1px rgba(60, 64, 67, 0.15);\n",
              "      fill: #174EA6;\n",
              "    }\n",
              "\n",
              "    [theme=dark] .colab-df-convert {\n",
              "      background-color: #3B4455;\n",
              "      fill: #D2E3FC;\n",
              "    }\n",
              "\n",
              "    [theme=dark] .colab-df-convert:hover {\n",
              "      background-color: #434B5C;\n",
              "      box-shadow: 0px 1px 3px 1px rgba(0, 0, 0, 0.15);\n",
              "      filter: drop-shadow(0px 1px 2px rgba(0, 0, 0, 0.3));\n",
              "      fill: #FFFFFF;\n",
              "    }\n",
              "  </style>\n",
              "\n",
              "      <script>\n",
              "        const buttonEl =\n",
              "          document.querySelector('#df-7c1d2011-5bf9-4693-abe1-8c4b09a154fc button.colab-df-convert');\n",
              "        buttonEl.style.display =\n",
              "          google.colab.kernel.accessAllowed ? 'block' : 'none';\n",
              "\n",
              "        async function convertToInteractive(key) {\n",
              "          const element = document.querySelector('#df-7c1d2011-5bf9-4693-abe1-8c4b09a154fc');\n",
              "          const dataTable =\n",
              "            await google.colab.kernel.invokeFunction('convertToInteractive',\n",
              "                                                     [key], {});\n",
              "          if (!dataTable) return;\n",
              "\n",
              "          const docLinkHtml = 'Like what you see? Visit the ' +\n",
              "            '<a target=\"_blank\" href=https://colab.research.google.com/notebooks/data_table.ipynb>data table notebook</a>'\n",
              "            + ' to learn more about interactive tables.';\n",
              "          element.innerHTML = '';\n",
              "          dataTable['output_type'] = 'display_data';\n",
              "          await google.colab.output.renderOutput(dataTable, element);\n",
              "          const docLink = document.createElement('div');\n",
              "          docLink.innerHTML = docLinkHtml;\n",
              "          element.appendChild(docLink);\n",
              "        }\n",
              "      </script>\n",
              "    </div>\n",
              "  </div>\n",
              "  "
            ]
          },
          "metadata": {},
          "execution_count": 11
        }
      ]
    },
    {
      "cell_type": "code",
      "source": [
        "cubagem['lnDAP'] = np.log(cubagem['DAP'])"
      ],
      "metadata": {
        "id": "cTR4rl16abgb"
      },
      "execution_count": 12,
      "outputs": []
    },
    {
      "cell_type": "code",
      "source": [
        "cubagem['lnHT'] = np.log(cubagem['HT'])"
      ],
      "metadata": {
        "id": "xWjAiqGBabq6"
      },
      "execution_count": 13,
      "outputs": []
    },
    {
      "cell_type": "code",
      "source": [
        "cubagem['lnVtcasca'] = np.log(cubagem['Vtotalcasca'])"
      ],
      "metadata": {
        "id": "Fn04HNARbBxb"
      },
      "execution_count": 14,
      "outputs": []
    },
    {
      "cell_type": "code",
      "source": [
        "cubagem['lnV5casca'] = np.log(cubagem['V5casca'])"
      ],
      "metadata": {
        "id": "rsOAGjbtbB38"
      },
      "execution_count": 15,
      "outputs": []
    },
    {
      "cell_type": "code",
      "source": [
        "cubagem.head()"
      ],
      "metadata": {
        "colab": {
          "base_uri": "https://localhost:8080/",
          "height": 238
        },
        "id": "7t5ISpbHab45",
        "outputId": "5c5f8639-4b3b-4307-c1fb-aa39194e514e"
      },
      "execution_count": 16,
      "outputs": [
        {
          "output_type": "execute_result",
          "data": {
            "text/plain": [
              "                    DAP    HT   V5casca  Vtotalcasca     lnDAP      lnHT  \\\n",
              "Código da Árvore                                                           \n",
              "1                 12.00  24.8  0.110448     0.110453  2.484907  3.210844   \n",
              "2                 12.50  26.4  0.131897     0.131912  2.525729  3.273364   \n",
              "3                 13.00  27.3  0.131415     0.131417  2.564949  3.306887   \n",
              "4                 13.00  28.4  0.157841     0.157843  2.564949  3.346389   \n",
              "5                 13.75  26.9  0.167208     0.167211  2.621039  3.292126   \n",
              "\n",
              "                  lnVtcasca  lnV5casca  \n",
              "Código da Árvore                        \n",
              "1                 -2.203169  -2.203208  \n",
              "2                 -2.025622  -2.025735  \n",
              "3                 -2.029378  -2.029399  \n",
              "4                 -1.846155  -1.846166  \n",
              "5                 -1.788496  -1.788517  "
            ],
            "text/html": [
              "\n",
              "  <div id=\"df-fee3653b-d2a0-43f2-bb26-e9c404bc613e\">\n",
              "    <div class=\"colab-df-container\">\n",
              "      <div>\n",
              "<style scoped>\n",
              "    .dataframe tbody tr th:only-of-type {\n",
              "        vertical-align: middle;\n",
              "    }\n",
              "\n",
              "    .dataframe tbody tr th {\n",
              "        vertical-align: top;\n",
              "    }\n",
              "\n",
              "    .dataframe thead th {\n",
              "        text-align: right;\n",
              "    }\n",
              "</style>\n",
              "<table border=\"1\" class=\"dataframe\">\n",
              "  <thead>\n",
              "    <tr style=\"text-align: right;\">\n",
              "      <th></th>\n",
              "      <th>DAP</th>\n",
              "      <th>HT</th>\n",
              "      <th>V5casca</th>\n",
              "      <th>Vtotalcasca</th>\n",
              "      <th>lnDAP</th>\n",
              "      <th>lnHT</th>\n",
              "      <th>lnVtcasca</th>\n",
              "      <th>lnV5casca</th>\n",
              "    </tr>\n",
              "    <tr>\n",
              "      <th>Código da Árvore</th>\n",
              "      <th></th>\n",
              "      <th></th>\n",
              "      <th></th>\n",
              "      <th></th>\n",
              "      <th></th>\n",
              "      <th></th>\n",
              "      <th></th>\n",
              "      <th></th>\n",
              "    </tr>\n",
              "  </thead>\n",
              "  <tbody>\n",
              "    <tr>\n",
              "      <th>1</th>\n",
              "      <td>12.00</td>\n",
              "      <td>24.8</td>\n",
              "      <td>0.110448</td>\n",
              "      <td>0.110453</td>\n",
              "      <td>2.484907</td>\n",
              "      <td>3.210844</td>\n",
              "      <td>-2.203169</td>\n",
              "      <td>-2.203208</td>\n",
              "    </tr>\n",
              "    <tr>\n",
              "      <th>2</th>\n",
              "      <td>12.50</td>\n",
              "      <td>26.4</td>\n",
              "      <td>0.131897</td>\n",
              "      <td>0.131912</td>\n",
              "      <td>2.525729</td>\n",
              "      <td>3.273364</td>\n",
              "      <td>-2.025622</td>\n",
              "      <td>-2.025735</td>\n",
              "    </tr>\n",
              "    <tr>\n",
              "      <th>3</th>\n",
              "      <td>13.00</td>\n",
              "      <td>27.3</td>\n",
              "      <td>0.131415</td>\n",
              "      <td>0.131417</td>\n",
              "      <td>2.564949</td>\n",
              "      <td>3.306887</td>\n",
              "      <td>-2.029378</td>\n",
              "      <td>-2.029399</td>\n",
              "    </tr>\n",
              "    <tr>\n",
              "      <th>4</th>\n",
              "      <td>13.00</td>\n",
              "      <td>28.4</td>\n",
              "      <td>0.157841</td>\n",
              "      <td>0.157843</td>\n",
              "      <td>2.564949</td>\n",
              "      <td>3.346389</td>\n",
              "      <td>-1.846155</td>\n",
              "      <td>-1.846166</td>\n",
              "    </tr>\n",
              "    <tr>\n",
              "      <th>5</th>\n",
              "      <td>13.75</td>\n",
              "      <td>26.9</td>\n",
              "      <td>0.167208</td>\n",
              "      <td>0.167211</td>\n",
              "      <td>2.621039</td>\n",
              "      <td>3.292126</td>\n",
              "      <td>-1.788496</td>\n",
              "      <td>-1.788517</td>\n",
              "    </tr>\n",
              "  </tbody>\n",
              "</table>\n",
              "</div>\n",
              "      <button class=\"colab-df-convert\" onclick=\"convertToInteractive('df-fee3653b-d2a0-43f2-bb26-e9c404bc613e')\"\n",
              "              title=\"Convert this dataframe to an interactive table.\"\n",
              "              style=\"display:none;\">\n",
              "        \n",
              "  <svg xmlns=\"http://www.w3.org/2000/svg\" height=\"24px\"viewBox=\"0 0 24 24\"\n",
              "       width=\"24px\">\n",
              "    <path d=\"M0 0h24v24H0V0z\" fill=\"none\"/>\n",
              "    <path d=\"M18.56 5.44l.94 2.06.94-2.06 2.06-.94-2.06-.94-.94-2.06-.94 2.06-2.06.94zm-11 1L8.5 8.5l.94-2.06 2.06-.94-2.06-.94L8.5 2.5l-.94 2.06-2.06.94zm10 10l.94 2.06.94-2.06 2.06-.94-2.06-.94-.94-2.06-.94 2.06-2.06.94z\"/><path d=\"M17.41 7.96l-1.37-1.37c-.4-.4-.92-.59-1.43-.59-.52 0-1.04.2-1.43.59L10.3 9.45l-7.72 7.72c-.78.78-.78 2.05 0 2.83L4 21.41c.39.39.9.59 1.41.59.51 0 1.02-.2 1.41-.59l7.78-7.78 2.81-2.81c.8-.78.8-2.07 0-2.86zM5.41 20L4 18.59l7.72-7.72 1.47 1.35L5.41 20z\"/>\n",
              "  </svg>\n",
              "      </button>\n",
              "      \n",
              "  <style>\n",
              "    .colab-df-container {\n",
              "      display:flex;\n",
              "      flex-wrap:wrap;\n",
              "      gap: 12px;\n",
              "    }\n",
              "\n",
              "    .colab-df-convert {\n",
              "      background-color: #E8F0FE;\n",
              "      border: none;\n",
              "      border-radius: 50%;\n",
              "      cursor: pointer;\n",
              "      display: none;\n",
              "      fill: #1967D2;\n",
              "      height: 32px;\n",
              "      padding: 0 0 0 0;\n",
              "      width: 32px;\n",
              "    }\n",
              "\n",
              "    .colab-df-convert:hover {\n",
              "      background-color: #E2EBFA;\n",
              "      box-shadow: 0px 1px 2px rgba(60, 64, 67, 0.3), 0px 1px 3px 1px rgba(60, 64, 67, 0.15);\n",
              "      fill: #174EA6;\n",
              "    }\n",
              "\n",
              "    [theme=dark] .colab-df-convert {\n",
              "      background-color: #3B4455;\n",
              "      fill: #D2E3FC;\n",
              "    }\n",
              "\n",
              "    [theme=dark] .colab-df-convert:hover {\n",
              "      background-color: #434B5C;\n",
              "      box-shadow: 0px 1px 3px 1px rgba(0, 0, 0, 0.15);\n",
              "      filter: drop-shadow(0px 1px 2px rgba(0, 0, 0, 0.3));\n",
              "      fill: #FFFFFF;\n",
              "    }\n",
              "  </style>\n",
              "\n",
              "      <script>\n",
              "        const buttonEl =\n",
              "          document.querySelector('#df-fee3653b-d2a0-43f2-bb26-e9c404bc613e button.colab-df-convert');\n",
              "        buttonEl.style.display =\n",
              "          google.colab.kernel.accessAllowed ? 'block' : 'none';\n",
              "\n",
              "        async function convertToInteractive(key) {\n",
              "          const element = document.querySelector('#df-fee3653b-d2a0-43f2-bb26-e9c404bc613e');\n",
              "          const dataTable =\n",
              "            await google.colab.kernel.invokeFunction('convertToInteractive',\n",
              "                                                     [key], {});\n",
              "          if (!dataTable) return;\n",
              "\n",
              "          const docLinkHtml = 'Like what you see? Visit the ' +\n",
              "            '<a target=\"_blank\" href=https://colab.research.google.com/notebooks/data_table.ipynb>data table notebook</a>'\n",
              "            + ' to learn more about interactive tables.';\n",
              "          element.innerHTML = '';\n",
              "          dataTable['output_type'] = 'display_data';\n",
              "          await google.colab.output.renderOutput(dataTable, element);\n",
              "          const docLink = document.createElement('div');\n",
              "          docLink.innerHTML = docLinkHtml;\n",
              "          element.appendChild(docLink);\n",
              "        }\n",
              "      </script>\n",
              "    </div>\n",
              "  </div>\n",
              "  "
            ]
          },
          "metadata": {},
          "execution_count": 16
        }
      ]
    },
    {
      "cell_type": "code",
      "source": [
        "cubagem.columns"
      ],
      "metadata": {
        "colab": {
          "base_uri": "https://localhost:8080/"
        },
        "id": "CyuAde5-cADr",
        "outputId": "ab0b9940-ab65-442d-a49b-f6ad53360955"
      },
      "execution_count": 17,
      "outputs": [
        {
          "output_type": "execute_result",
          "data": {
            "text/plain": [
              "Index(['DAP', 'HT', 'V5casca', 'Vtotalcasca', 'lnDAP', 'lnHT', 'lnVtcasca',\n",
              "       'lnV5casca'],\n",
              "      dtype='object')"
            ]
          },
          "metadata": {},
          "execution_count": 17
        }
      ]
    },
    {
      "cell_type": "code",
      "source": [
        "#cubagem.to_csv('Cubagem.csv')"
      ],
      "metadata": {
        "id": "GqNITNJQ7_Q5"
      },
      "execution_count": 18,
      "outputs": []
    },
    {
      "cell_type": "markdown",
      "source": [
        "#Gráficos de tendência volume seção"
      ],
      "metadata": {
        "id": "-T1OJ7lFHfNQ"
      }
    },
    {
      "cell_type": "code",
      "source": [
        "fig, (ax1, ax2, ax3) = plt.subplots(1,3, figsize=(20,5))\n",
        "\n",
        "font = {'family' : 'normal',\n",
        "        'weight' : 'bold',\n",
        "        'size'   : 14}\n",
        "\n",
        "plt.rc('font', **font)\n",
        "\n",
        "print('Gráfico de tendência ')\n",
        "print('\\n')\n",
        "\n",
        "ax1.plot(cubagem_secao['Altura da secção'],cubagem_secao['Diâmetro da secção'], 'o' )\n",
        "ax2.plot(cubagem_secao['Altura da secção'],cubagem_secao['Vtotalcasca'], 'o')\n",
        "ax3.plot(cubagem_secao['Altura da secção'],cubagem_secao['V5casca'], 'o')\n",
        "\n",
        "ax1.set(title=\"A\", xlabel=\"\\nAltura da secção \", ylabel=\" Diâmetro da secção\");\n",
        "\n",
        "ax2.set(title=\"B\", xlabel= f\"\\nAltura da secção\", ylabel=\" Volume comercial 5 cm com casca(m³)\");\n",
        "\n",
        "ax3.set(title=\"C\", xlabel= f\"\\nAltura da secção\",ylabel=\" Volume comercial total com casca(m³)\");\n"
      ],
      "metadata": {
        "colab": {
          "base_uri": "https://localhost:8080/",
          "height": 434
        },
        "id": "yE8OSIYqHNaW",
        "outputId": "c4027697-1ed8-499c-8a76-07888b3261d4"
      },
      "execution_count": 19,
      "outputs": [
        {
          "output_type": "stream",
          "name": "stdout",
          "text": [
            "Gráfico de tendência \n",
            "\n",
            "\n"
          ]
        },
        {
          "output_type": "display_data",
          "data": {
            "text/plain": [
              "<Figure size 1440x360 with 3 Axes>"
            ],
            "image/png": "[encoded data removed]"
          },
          "metadata": {
            "needs_background": "light"
          }
        }
      ]
    },
    {
      "cell_type": "code",
      "source": [
        ""
      ],
      "metadata": {
        "id": "PJHsIPGbHK4R"
      },
      "execution_count": null,
      "outputs": []
    },
    {
      "cell_type": "markdown",
      "source": [
        "#Gráficos de tendência volume totalizado"
      ],
      "metadata": {
        "id": "H-yiNQ1zC5ps"
      }
    },
    {
      "cell_type": "code",
      "source": [
        "fig, (ax1, ax2, ax3, ax4 ) = plt.subplots(1,4, figsize=(20,5))\n",
        "\n",
        "font = {'family' : 'normal',\n",
        "        'weight' : 'bold',\n",
        "        'size'   : 14}\n",
        "\n",
        "plt.rc('font', **font)\n",
        "\n",
        "print('Gráfico de tendência ')\n",
        "print('\\n')\n",
        "\n",
        "ax1.plot(cubagem['DAP'],cubagem['V5casca'], 'o' )\n",
        "\n",
        "ax2.plot(cubagem['HT'],cubagem['V5casca'], 'o')\n",
        "\n",
        "ax3.plot(cubagem['DAP'],cubagem['Vtotalcasca'], 'o')\n",
        "\n",
        "ax4.plot(cubagem['HT'],cubagem['Vtotalcasca'], 'o')\n",
        "\n",
        "ax1.set(title=\"A\", xlabel=f\"\\nDiâmetro médio(cm)-DAP \", ylabel=\" Volume comercial 5 cm com casca(m³)\");\n",
        "\n",
        "ax2.set(title=\"B\", xlabel= f\"\\n Altura total(m)-HD\");\n",
        "\n",
        "ax3.set(title=\"C\", xlabel= f\"\\nDiâmetro médioc(cm)-DAP\",ylabel=\" Volume comercial total com casca(m³)\");\n",
        "\n",
        "ax4.set(title=\"D\", xlabel= f\"\\nAltura total (m)-HT\");"
      ],
      "metadata": {
        "colab": {
          "base_uri": "https://localhost:8080/",
          "height": 434
        },
        "id": "IKSYQzuKADp3",
        "outputId": "0a6cdc1f-20e9-46ca-c58c-2402888a5c03"
      },
      "execution_count": 25,
      "outputs": [
        {
          "output_type": "stream",
          "name": "stdout",
          "text": [
            "Gráfico de tendência \n",
            "\n",
            "\n"
          ]
        },
        {
          "output_type": "display_data",
          "data": {
            "text/plain": [
              "<Figure size 1440x360 with 4 Axes>"
            ],
            "image/png": "[encoded data removed]"
          },
          "metadata": {
            "needs_background": "light"
          }
        }
      ]
    },
    {
      "cell_type": "markdown",
      "source": [
        "#Schumacher e Hall para os modelos volumétricos"
      ],
      "metadata": {
        "id": "WRuOSYLy8eKB"
      }
    },
    {
      "cell_type": "markdown",
      "source": [
        "##Ajuste para volume total com casca"
      ],
      "metadata": {
        "id": "J5dc8iCepwrh"
      }
    },
    {
      "cell_type": "code",
      "source": [
        "X = cubagem[['lnDAP','lnHT']]"
      ],
      "metadata": {
        "id": "CuBYRa35oby1"
      },
      "execution_count": null,
      "outputs": []
    },
    {
      "cell_type": "code",
      "source": [
        "y_Vtcasca =  cubagem['lnVtcasca']"
      ],
      "metadata": {
        "id": "WpeIZX09opyy"
      },
      "execution_count": null,
      "outputs": []
    },
    {
      "cell_type": "code",
      "source": [
        "model_Vtcasca = LinearRegression().fit(X, y_Vtcasca)"
      ],
      "metadata": {
        "id": "vh3Wrd0Rob1x"
      },
      "execution_count": null,
      "outputs": []
    },
    {
      "cell_type": "code",
      "source": [
        "print(\"Regressão Linear (original)\")\n",
        "print(\"Coeficiente R^2 : {:.2f}\".format(model_Vtcasca.score(X, y_Vtcasca)))\n",
        "\n",
        "print(\"Descrição do modelo: \")\n",
        "s = [\"{0:0.2f}\".format(v) for v in model_Vtcasca.coef_]\n",
        "print(\"w: {}  b: {:.2f}\".format(s, model_Vtcasca.intercept_))"
      ],
      "metadata": {
        "colab": {
          "base_uri": "https://localhost:8080/"
        },
        "id": "UYUmmw_1ob4o",
        "outputId": "ddf421d4-9a82-407f-affd-fb08bbf4b103"
      },
      "execution_count": null,
      "outputs": [
        {
          "output_type": "stream",
          "name": "stdout",
          "text": [
            "Regressão Linear (original)\n",
            "Coeficiente R^2 : 0.95\n",
            "Descrição do modelo: \n",
            "w: ['1.74', '1.05']  b: -9.86\n"
          ]
        }
      ]
    },
    {
      "cell_type": "markdown",
      "source": [
        "## Ajuste para volume 5 com casca "
      ],
      "metadata": {
        "id": "wkEuB8Pap5QV"
      }
    },
    {
      "cell_type": "code",
      "source": [
        "X = cubagem[['lnDAP','lnHT']]"
      ],
      "metadata": {
        "id": "cnBmQCPNp68c"
      },
      "execution_count": null,
      "outputs": []
    },
    {
      "cell_type": "code",
      "source": [
        "y_lnV5cmcasca =  cubagem['lnV5casca']"
      ],
      "metadata": {
        "id": "RobeYngWwJd-"
      },
      "execution_count": null,
      "outputs": []
    },
    {
      "cell_type": "code",
      "source": [
        "model_lnV5cmcasca = LinearRegression().fit(X, y_lnV5cmcasca)"
      ],
      "metadata": {
        "id": "E97m1REEwJg7"
      },
      "execution_count": null,
      "outputs": []
    },
    {
      "cell_type": "code",
      "source": [
        "print(\"Regressão Linear (original)\")\n",
        "print(\"Coeficiente R^2 : {:.2f}\".format(model_lnV5cmcasca.score(X, y_lnV5cmcasca)))\n",
        "\n",
        "print(\"Descrição do modelo: \")\n",
        "s = [\"{0:0.2f}\".format(v) for v in model_lnV5cmcasca.coef_]\n",
        "print(\"w: {}  b: {:.2f}\".format(s, model_lnV5cmcasca.intercept_))"
      ],
      "metadata": {
        "colab": {
          "base_uri": "https://localhost:8080/"
        },
        "id": "C14FiMnfwJlc",
        "outputId": "5be13b1f-7fc6-43af-b67d-31a8153f7c1c"
      },
      "execution_count": null,
      "outputs": [
        {
          "output_type": "stream",
          "name": "stdout",
          "text": [
            "Regressão Linear (original)\n",
            "Coeficiente R^2 : 0.95\n",
            "Descrição do modelo: \n",
            "w: ['1.74', '1.05']  b: -9.86\n"
          ]
        }
      ]
    },
    {
      "cell_type": "markdown",
      "source": [
        "#Predição"
      ],
      "metadata": {
        "id": "xGGvHc-NoZun"
      }
    },
    {
      "cell_type": "code",
      "source": [
        "estima_volume = pd.read_csv('/content/altura_predito.csv', encoding='latin-1', sep =';', on_bad_lines='skip')\n",
        "estima_volume.head()"
      ],
      "metadata": {
        "id": "9ipRnQAe4tCw",
        "colab": {
          "base_uri": "https://localhost:8080/",
          "height": 206
        },
        "outputId": "68eeb985-8ca6-4d44-961c-05a630463ea3"
      },
      "execution_count": null,
      "outputs": [
        {
          "output_type": "execute_result",
          "data": {
            "text/plain": [
              "   Unnamed: 0 Talhao Plantio   IdParcela  AreaParc DataPlantio  DataColeta  \\\n",
              "0           0    T-6     P-6  IFC_12_001       400  01/05/2010  26/09/2018   \n",
              "1           1    T-6     P-6  IFC_12_008       400  01/05/2010  26/09/2018   \n",
              "2           2    T-6     P-6  IFC_12_008       400  01/05/2010  26/09/2018   \n",
              "3           3    T-6     P-6  IFC_12_008       400  01/05/2010  26/09/2018   \n",
              "4           4    T-6     P-6  IFC_12_008       400  01/05/2010  26/09/2018   \n",
              "\n",
              "   Linha  Arvore  Fuste   Cap  Ht Categoria1  CoordenadaX  CoordenadaY  \\\n",
              "0      1       1      1  57.5 NaN     NORMAL  -5397725337  -2049390493   \n",
              "1      2       5      1  58.0 NaN     NORMAL  -5397815827  -2049512442   \n",
              "2      2       6      1  40.4 NaN     NORMAL  -5397815827  -2049512442   \n",
              "3      3       1      1  56.5 NaN     NORMAL  -5397815827  -2049512442   \n",
              "4      3       2      1  49.2 NaN     NORMAL  -5397815827  -2049512442   \n",
              "\n",
              "         DAP  lnHt     1/dap     Label   Hest  \n",
              "0  18.302818   NaN  0.054636  3.402592  30.04  \n",
              "1  18.461973   NaN  0.054165  3.421465  30.61  \n",
              "2  12.859719   NaN  0.077762  3.262036  26.10  \n",
              "3  17.984509   NaN  0.055603  3.410942  30.29  \n",
              "4  15.660846   NaN  0.063854  3.415056  30.42  "
            ],
            "text/html": [
              "\n",
              "  <div id=\"df-23812bbd-9838-4e35-8615-37d16d5527a5\">\n",
              "    <div class=\"colab-df-container\">\n",
              "      <div>\n",
              "<style scoped>\n",
              "    .dataframe tbody tr th:only-of-type {\n",
              "        vertical-align: middle;\n",
              "    }\n",
              "\n",
              "    .dataframe tbody tr th {\n",
              "        vertical-align: top;\n",
              "    }\n",
              "\n",
              "    .dataframe thead th {\n",
              "        text-align: right;\n",
              "    }\n",
              "</style>\n",
              "<table border=\"1\" class=\"dataframe\">\n",
              "  <thead>\n",
              "    <tr style=\"text-align: right;\">\n",
              "      <th></th>\n",
              "      <th>Unnamed: 0</th>\n",
              "      <th>Talhao</th>\n",
              "      <th>Plantio</th>\n",
              "      <th>IdParcela</th>\n",
              "      <th>AreaParc</th>\n",
              "      <th>DataPlantio</th>\n",
              "      <th>DataColeta</th>\n",
              "      <th>Linha</th>\n",
              "      <th>Arvore</th>\n",
              "      <th>Fuste</th>\n",
              "      <th>Cap</th>\n",
              "      <th>Ht</th>\n",
              "      <th>Categoria1</th>\n",
              "      <th>CoordenadaX</th>\n",
              "      <th>CoordenadaY</th>\n",
              "      <th>DAP</th>\n",
              "      <th>lnHt</th>\n",
              "      <th>1/dap</th>\n",
              "      <th>Label</th>\n",
              "      <th>Hest</th>\n",
              "    </tr>\n",
              "  </thead>\n",
              "  <tbody>\n",
              "    <tr>\n",
              "      <th>0</th>\n",
              "      <td>0</td>\n",
              "      <td>T-6</td>\n",
              "      <td>P-6</td>\n",
              "      <td>IFC_12_001</td>\n",
              "      <td>400</td>\n",
              "      <td>01/05/2010</td>\n",
              "      <td>26/09/2018</td>\n",
              "      <td>1</td>\n",
              "      <td>1</td>\n",
              "      <td>1</td>\n",
              "      <td>57.5</td>\n",
              "      <td>NaN</td>\n",
              "      <td>NORMAL</td>\n",
              "      <td>-5397725337</td>\n",
              "      <td>-2049390493</td>\n",
              "      <td>18.302818</td>\n",
              "      <td>NaN</td>\n",
              "      <td>0.054636</td>\n",
              "      <td>3.402592</td>\n",
              "      <td>30.04</td>\n",
              "    </tr>\n",
              "    <tr>\n",
              "      <th>1</th>\n",
              "      <td>1</td>\n",
              "      <td>T-6</td>\n",
              "      <td>P-6</td>\n",
              "      <td>IFC_12_008</td>\n",
              "      <td>400</td>\n",
              "      <td>01/05/2010</td>\n",
              "      <td>26/09/2018</td>\n",
              "      <td>2</td>\n",
              "      <td>5</td>\n",
              "      <td>1</td>\n",
              "      <td>58.0</td>\n",
              "      <td>NaN</td>\n",
              "      <td>NORMAL</td>\n",
              "      <td>-5397815827</td>\n",
              "      <td>-2049512442</td>\n",
              "      <td>18.461973</td>\n",
              "      <td>NaN</td>\n",
              "      <td>0.054165</td>\n",
              "      <td>3.421465</td>\n",
              "      <td>30.61</td>\n",
              "    </tr>\n",
              "    <tr>\n",
              "      <th>2</th>\n",
              "      <td>2</td>\n",
              "      <td>T-6</td>\n",
              "      <td>P-6</td>\n",
              "      <td>IFC_12_008</td>\n",
              "      <td>400</td>\n",
              "      <td>01/05/2010</td>\n",
              "      <td>26/09/2018</td>\n",
              "      <td>2</td>\n",
              "      <td>6</td>\n",
              "      <td>1</td>\n",
              "      <td>40.4</td>\n",
              "      <td>NaN</td>\n",
              "      <td>NORMAL</td>\n",
              "      <td>-5397815827</td>\n",
              "      <td>-2049512442</td>\n",
              "      <td>12.859719</td>\n",
              "      <td>NaN</td>\n",
              "      <td>0.077762</td>\n",
              "      <td>3.262036</td>\n",
              "      <td>26.10</td>\n",
              "    </tr>\n",
              "    <tr>\n",
              "      <th>3</th>\n",
              "      <td>3</td>\n",
              "      <td>T-6</td>\n",
              "      <td>P-6</td>\n",
              "      <td>IFC_12_008</td>\n",
              "      <td>400</td>\n",
              "      <td>01/05/2010</td>\n",
              "      <td>26/09/2018</td>\n",
              "      <td>3</td>\n",
              "      <td>1</td>\n",
              "      <td>1</td>\n",
              "      <td>56.5</td>\n",
              "      <td>NaN</td>\n",
              "      <td>NORMAL</td>\n",
              "      <td>-5397815827</td>\n",
              "      <td>-2049512442</td>\n",
              "      <td>17.984509</td>\n",
              "      <td>NaN</td>\n",
              "      <td>0.055603</td>\n",
              "      <td>3.410942</td>\n",
              "      <td>30.29</td>\n",
              "    </tr>\n",
              "    <tr>\n",
              "      <th>4</th>\n",
              "      <td>4</td>\n",
              "      <td>T-6</td>\n",
              "      <td>P-6</td>\n",
              "      <td>IFC_12_008</td>\n",
              "      <td>400</td>\n",
              "      <td>01/05/2010</td>\n",
              "      <td>26/09/2018</td>\n",
              "      <td>3</td>\n",
              "      <td>2</td>\n",
              "      <td>1</td>\n",
              "      <td>49.2</td>\n",
              "      <td>NaN</td>\n",
              "      <td>NORMAL</td>\n",
              "      <td>-5397815827</td>\n",
              "      <td>-2049512442</td>\n",
              "      <td>15.660846</td>\n",
              "      <td>NaN</td>\n",
              "      <td>0.063854</td>\n",
              "      <td>3.415056</td>\n",
              "      <td>30.42</td>\n",
              "    </tr>\n",
              "  </tbody>\n",
              "</table>\n",
              "</div>\n",
              "      <button class=\"colab-df-convert\" onclick=\"convertToInteractive('df-23812bbd-9838-4e35-8615-37d16d5527a5')\"\n",
              "              title=\"Convert this dataframe to an interactive table.\"\n",
              "              style=\"display:none;\">\n",
              "        \n",
              "  <svg xmlns=\"http://www.w3.org/2000/svg\" height=\"24px\"viewBox=\"0 0 24 24\"\n",
              "       width=\"24px\">\n",
              "    <path d=\"M0 0h24v24H0V0z\" fill=\"none\"/>\n",
              "    <path d=\"M18.56 5.44l.94 2.06.94-2.06 2.06-.94-2.06-.94-.94-2.06-.94 2.06-2.06.94zm-11 1L8.5 8.5l.94-2.06 2.06-.94-2.06-.94L8.5 2.5l-.94 2.06-2.06.94zm10 10l.94 2.06.94-2.06 2.06-.94-2.06-.94-.94-2.06-.94 2.06-2.06.94z\"/><path d=\"M17.41 7.96l-1.37-1.37c-.4-.4-.92-.59-1.43-.59-.52 0-1.04.2-1.43.59L10.3 9.45l-7.72 7.72c-.78.78-.78 2.05 0 2.83L4 21.41c.39.39.9.59 1.41.59.51 0 1.02-.2 1.41-.59l7.78-7.78 2.81-2.81c.8-.78.8-2.07 0-2.86zM5.41 20L4 18.59l7.72-7.72 1.47 1.35L5.41 20z\"/>\n",
              "  </svg>\n",
              "      </button>\n",
              "      \n",
              "  <style>\n",
              "    .colab-df-container {\n",
              "      display:flex;\n",
              "      flex-wrap:wrap;\n",
              "      gap: 12px;\n",
              "    }\n",
              "\n",
              "    .colab-df-convert {\n",
              "      background-color: #E8F0FE;\n",
              "      border: none;\n",
              "      border-radius: 50%;\n",
              "      cursor: pointer;\n",
              "      display: none;\n",
              "      fill: #1967D2;\n",
              "      height: 32px;\n",
              "      padding: 0 0 0 0;\n",
              "      width: 32px;\n",
              "    }\n",
              "\n",
              "    .colab-df-convert:hover {\n",
              "      background-color: #E2EBFA;\n",
              "      box-shadow: 0px 1px 2px rgba(60, 64, 67, 0.3), 0px 1px 3px 1px rgba(60, 64, 67, 0.15);\n",
              "      fill: #174EA6;\n",
              "    }\n",
              "\n",
              "    [theme=dark] .colab-df-convert {\n",
              "      background-color: #3B4455;\n",
              "      fill: #D2E3FC;\n",
              "    }\n",
              "\n",
              "    [theme=dark] .colab-df-convert:hover {\n",
              "      background-color: #434B5C;\n",
              "      box-shadow: 0px 1px 3px 1px rgba(0, 0, 0, 0.15);\n",
              "      filter: drop-shadow(0px 1px 2px rgba(0, 0, 0, 0.3));\n",
              "      fill: #FFFFFF;\n",
              "    }\n",
              "  </style>\n",
              "\n",
              "      <script>\n",
              "        const buttonEl =\n",
              "          document.querySelector('#df-23812bbd-9838-4e35-8615-37d16d5527a5 button.colab-df-convert');\n",
              "        buttonEl.style.display =\n",
              "          google.colab.kernel.accessAllowed ? 'block' : 'none';\n",
              "\n",
              "        async function convertToInteractive(key) {\n",
              "          const element = document.querySelector('#df-23812bbd-9838-4e35-8615-37d16d5527a5');\n",
              "          const dataTable =\n",
              "            await google.colab.kernel.invokeFunction('convertToInteractive',\n",
              "                                                     [key], {});\n",
              "          if (!dataTable) return;\n",
              "\n",
              "          const docLinkHtml = 'Like what you see? Visit the ' +\n",
              "            '<a target=\"_blank\" href=https://colab.research.google.com/notebooks/data_table.ipynb>data table notebook</a>'\n",
              "            + ' to learn more about interactive tables.';\n",
              "          element.innerHTML = '';\n",
              "          dataTable['output_type'] = 'display_data';\n",
              "          await google.colab.output.renderOutput(dataTable, element);\n",
              "          const docLink = document.createElement('div');\n",
              "          docLink.innerHTML = docLinkHtml;\n",
              "          element.appendChild(docLink);\n",
              "        }\n",
              "      </script>\n",
              "    </div>\n",
              "  </div>\n",
              "  "
            ]
          },
          "metadata": {},
          "execution_count": 98
        }
      ]
    },
    {
      "cell_type": "code",
      "source": [
        "estima_volume['lnVtcasca'] = model_Vtcasca.intercept_ +  model_Vtcasca.coef_[0]* np.log(estima_volume['DAP']) +  model_Vtcasca.coef_[1] * np.log(estima_volume['Hest'])"
      ],
      "metadata": {
        "id": "P9v785kQwJn-"
      },
      "execution_count": null,
      "outputs": []
    },
    {
      "cell_type": "code",
      "source": [
        "estima_volume['lnV5casca'] = model_lnV5cmcasca.intercept_+ model_lnV5cmcasca.coef_[0]* np.log(estima_volume['DAP']) + model_lnV5cmcasca.coef_[1] * np.log(estima_volume['Hest'])"
      ],
      "metadata": {
        "id": "XxnGR0kMwJqh"
      },
      "execution_count": null,
      "outputs": []
    },
    {
      "cell_type": "code",
      "source": [
        "estima_volume['Vtcasca'] = np.exp(estima_volume['lnVtcasca'])\n",
        "estima_volume['Vtcasca'].head()"
      ],
      "metadata": {
        "colab": {
          "base_uri": "https://localhost:8080/"
        },
        "id": "7fGlUuGcqnHi",
        "outputId": "cab12b27-347b-4c30-80cb-7827951524ee"
      },
      "execution_count": null,
      "outputs": [
        {
          "output_type": "execute_result",
          "data": {
            "text/plain": [
              "0    0.292101\n",
              "1    0.302427\n",
              "2    0.136290\n",
              "3    0.285766\n",
              "4    0.225530\n",
              "Name: Vtcasca, dtype: float64"
            ]
          },
          "metadata": {},
          "execution_count": 104
        }
      ]
    },
    {
      "cell_type": "code",
      "source": [
        "estima_volume['V5casca'] = np.exp(estima_volume['lnV5casca'])\n",
        "estima_volume['V5casca'].head()"
      ],
      "metadata": {
        "colab": {
          "base_uri": "https://localhost:8080/"
        },
        "id": "P_C6eP10qnLC",
        "outputId": "ee5dc898-951a-4117-8c80-ac458bf6439e"
      },
      "execution_count": null,
      "outputs": [
        {
          "output_type": "execute_result",
          "data": {
            "text/plain": [
              "0    0.292088\n",
              "1    0.302415\n",
              "2    0.136285\n",
              "3    0.285755\n",
              "4    0.225524\n",
              "Name: V5casca, dtype: float64"
            ]
          },
          "metadata": {},
          "execution_count": 105
        }
      ]
    },
    {
      "cell_type": "code",
      "source": [
        "estima_volume"
      ],
      "metadata": {
        "colab": {
          "base_uri": "https://localhost:8080/",
          "height": 424
        },
        "id": "IgPpH3_2qnQI",
        "outputId": "74348c65-d694-4416-82f3-bb8917343044"
      },
      "execution_count": null,
      "outputs": [
        {
          "output_type": "execute_result",
          "data": {
            "text/plain": [
              "      Unnamed: 0 Talhao Plantio   IdParcela  AreaParc DataPlantio  DataColeta  \\\n",
              "0              0    T-6     P-6  IFC_12_001       400  01/05/2010  26/09/2018   \n",
              "1              1    T-6     P-6  IFC_12_008       400  01/05/2010  26/09/2018   \n",
              "2              2    T-6     P-6  IFC_12_008       400  01/05/2010  26/09/2018   \n",
              "3              3    T-6     P-6  IFC_12_008       400  01/05/2010  26/09/2018   \n",
              "4              4    T-6     P-6  IFC_12_008       400  01/05/2010  26/09/2018   \n",
              "...          ...    ...     ...         ...       ...         ...         ...   \n",
              "1649        1691    T-8     P-8  IFC_12_032       400  01/06/2010  26/09/2018   \n",
              "1650        1692    T-8     P-8  IFC_12_032       400  01/06/2010  26/09/2018   \n",
              "1651        1693    T-8     P-8  IFC_12_032       400  01/06/2010  26/09/2018   \n",
              "1652        1694    T-8     P-8  IFC_12_032       400  01/06/2010  26/09/2018   \n",
              "1653        1695    T-8     P-8  IFC_12_040       400  01/06/2010  26/09/2018   \n",
              "\n",
              "      Linha  Arvore  Fuste  ...  CoordenadaY        DAP      lnHt     1/dap  \\\n",
              "0         1       1      1  ...  -2049390493  18.302818       NaN  0.054636   \n",
              "1         2       5      1  ...  -2049512442  18.461973       NaN  0.054165   \n",
              "2         2       6      1  ...  -2049512442  12.859719       NaN  0.077762   \n",
              "3         3       1      1  ...  -2049512442  17.984509       NaN  0.055603   \n",
              "4         3       2      1  ...  -2049512442  15.660846       NaN  0.063854   \n",
              "...     ...     ...    ...  ...          ...        ...       ...       ...   \n",
              "1649      4       8      1  ...  -2050786515  13.973804  3.230804  0.071562   \n",
              "1650      5       1      1  ...  -2050786515  16.392959  3.328627  0.061002   \n",
              "1651      5       2      1  ...  -2050786515  17.347889  3.377588  0.057644   \n",
              "1652      5       4      1  ...  -2050786515  17.825354  3.230804  0.056100   \n",
              "1653      7       4      1  ...  -2051046136  16.456621       NaN  0.060766   \n",
              "\n",
              "         Label   Hest  lnVtcasca  lnV5casca   V5casca   Vtcasca  \n",
              "0     3.402592  30.04  -1.230657  -1.230700  0.292088  0.292101  \n",
              "1     3.421465  30.61  -1.195914  -1.195954  0.302415  0.302427  \n",
              "2     3.262036  26.10  -1.992967  -1.993010  0.136285  0.136290  \n",
              "3     3.410942  30.29  -1.252581  -1.252621  0.285755  0.285766  \n",
              "4     3.415056  30.42  -1.489303  -1.489329  0.225524  0.225530  \n",
              "...        ...    ...        ...        ...       ...       ...  \n",
              "1649  3.224519  25.30  -1.880656  -1.880713  0.152481  0.152490  \n",
              "1650  3.326627  27.90  -1.500037  -1.500086  0.223111  0.223122  \n",
              "1651  3.347583  29.30  -1.350148  -1.350192  0.259190  0.259202  \n",
              "1652  3.332310  25.30  -1.456240  -1.456319  0.233093  0.233111  \n",
              "1653  3.255446  25.93  -1.569820  -1.569886  0.208069  0.208083  \n",
              "\n",
              "[1654 rows x 24 columns]"
            ],
            "text/html": [
              "\n",
              "  <div id=\"df-1946fd79-32ec-464c-9267-00dd019c0c23\">\n",
              "    <div class=\"colab-df-container\">\n",
              "      <div>\n",
              "<style scoped>\n",
              "    .dataframe tbody tr th:only-of-type {\n",
              "        vertical-align: middle;\n",
              "    }\n",
              "\n",
              "    .dataframe tbody tr th {\n",
              "        vertical-align: top;\n",
              "    }\n",
              "\n",
              "    .dataframe thead th {\n",
              "        text-align: right;\n",
              "    }\n",
              "</style>\n",
              "<table border=\"1\" class=\"dataframe\">\n",
              "  <thead>\n",
              "    <tr style=\"text-align: right;\">\n",
              "      <th></th>\n",
              "      <th>Unnamed: 0</th>\n",
              "      <th>Talhao</th>\n",
              "      <th>Plantio</th>\n",
              "      <th>IdParcela</th>\n",
              "      <th>AreaParc</th>\n",
              "      <th>DataPlantio</th>\n",
              "      <th>DataColeta</th>\n",
              "      <th>Linha</th>\n",
              "      <th>Arvore</th>\n",
              "      <th>Fuste</th>\n",
              "      <th>...</th>\n",
              "      <th>CoordenadaY</th>\n",
              "      <th>DAP</th>\n",
              "      <th>lnHt</th>\n",
              "      <th>1/dap</th>\n",
              "      <th>Label</th>\n",
              "      <th>Hest</th>\n",
              "      <th>lnVtcasca</th>\n",
              "      <th>lnV5casca</th>\n",
              "      <th>V5casca</th>\n",
              "      <th>Vtcasca</th>\n",
              "    </tr>\n",
              "  </thead>\n",
              "  <tbody>\n",
              "    <tr>\n",
              "      <th>0</th>\n",
              "      <td>0</td>\n",
              "      <td>T-6</td>\n",
              "      <td>P-6</td>\n",
              "      <td>IFC_12_001</td>\n",
              "      <td>400</td>\n",
              "      <td>01/05/2010</td>\n",
              "      <td>26/09/2018</td>\n",
              "      <td>1</td>\n",
              "      <td>1</td>\n",
              "      <td>1</td>\n",
              "      <td>...</td>\n",
              "      <td>-2049390493</td>\n",
              "      <td>18.302818</td>\n",
              "      <td>NaN</td>\n",
              "      <td>0.054636</td>\n",
              "      <td>3.402592</td>\n",
              "      <td>30.04</td>\n",
              "      <td>-1.230657</td>\n",
              "      <td>-1.230700</td>\n",
              "      <td>0.292088</td>\n",
              "      <td>0.292101</td>\n",
              "    </tr>\n",
              "    <tr>\n",
              "      <th>1</th>\n",
              "      <td>1</td>\n",
              "      <td>T-6</td>\n",
              "      <td>P-6</td>\n",
              "      <td>IFC_12_008</td>\n",
              "      <td>400</td>\n",
              "      <td>01/05/2010</td>\n",
              "      <td>26/09/2018</td>\n",
              "      <td>2</td>\n",
              "      <td>5</td>\n",
              "      <td>1</td>\n",
              "      <td>...</td>\n",
              "      <td>-2049512442</td>\n",
              "      <td>18.461973</td>\n",
              "      <td>NaN</td>\n",
              "      <td>0.054165</td>\n",
              "      <td>3.421465</td>\n",
              "      <td>30.61</td>\n",
              "      <td>-1.195914</td>\n",
              "      <td>-1.195954</td>\n",
              "      <td>0.302415</td>\n",
              "      <td>0.302427</td>\n",
              "    </tr>\n",
              "    <tr>\n",
              "      <th>2</th>\n",
              "      <td>2</td>\n",
              "      <td>T-6</td>\n",
              "      <td>P-6</td>\n",
              "      <td>IFC_12_008</td>\n",
              "      <td>400</td>\n",
              "      <td>01/05/2010</td>\n",
              "      <td>26/09/2018</td>\n",
              "      <td>2</td>\n",
              "      <td>6</td>\n",
              "      <td>1</td>\n",
              "      <td>...</td>\n",
              "      <td>-2049512442</td>\n",
              "      <td>12.859719</td>\n",
              "      <td>NaN</td>\n",
              "      <td>0.077762</td>\n",
              "      <td>3.262036</td>\n",
              "      <td>26.10</td>\n",
              "      <td>-1.992967</td>\n",
              "      <td>-1.993010</td>\n",
              "      <td>0.136285</td>\n",
              "      <td>0.136290</td>\n",
              "    </tr>\n",
              "    <tr>\n",
              "      <th>3</th>\n",
              "      <td>3</td>\n",
              "      <td>T-6</td>\n",
              "      <td>P-6</td>\n",
              "      <td>IFC_12_008</td>\n",
              "      <td>400</td>\n",
              "      <td>01/05/2010</td>\n",
              "      <td>26/09/2018</td>\n",
              "      <td>3</td>\n",
              "      <td>1</td>\n",
              "      <td>1</td>\n",
              "      <td>...</td>\n",
              "      <td>-2049512442</td>\n",
              "      <td>17.984509</td>\n",
              "      <td>NaN</td>\n",
              "      <td>0.055603</td>\n",
              "      <td>3.410942</td>\n",
              "      <td>30.29</td>\n",
              "      <td>-1.252581</td>\n",
              "      <td>-1.252621</td>\n",
              "      <td>0.285755</td>\n",
              "      <td>0.285766</td>\n",
              "    </tr>\n",
              "    <tr>\n",
              "      <th>4</th>\n",
              "      <td>4</td>\n",
              "      <td>T-6</td>\n",
              "      <td>P-6</td>\n",
              "      <td>IFC_12_008</td>\n",
              "      <td>400</td>\n",
              "      <td>01/05/2010</td>\n",
              "      <td>26/09/2018</td>\n",
              "      <td>3</td>\n",
              "      <td>2</td>\n",
              "      <td>1</td>\n",
              "      <td>...</td>\n",
              "      <td>-2049512442</td>\n",
              "      <td>15.660846</td>\n",
              "      <td>NaN</td>\n",
              "      <td>0.063854</td>\n",
              "      <td>3.415056</td>\n",
              "      <td>30.42</td>\n",
              "      <td>-1.489303</td>\n",
              "      <td>-1.489329</td>\n",
              "      <td>0.225524</td>\n",
              "      <td>0.225530</td>\n",
              "    </tr>\n",
              "    <tr>\n",
              "      <th>...</th>\n",
              "      <td>...</td>\n",
              "      <td>...</td>\n",
              "      <td>...</td>\n",
              "      <td>...</td>\n",
              "      <td>...</td>\n",
              "      <td>...</td>\n",
              "      <td>...</td>\n",
              "      <td>...</td>\n",
              "      <td>...</td>\n",
              "      <td>...</td>\n",
              "      <td>...</td>\n",
              "      <td>...</td>\n",
              "      <td>...</td>\n",
              "      <td>...</td>\n",
              "      <td>...</td>\n",
              "      <td>...</td>\n",
              "      <td>...</td>\n",
              "      <td>...</td>\n",
              "      <td>...</td>\n",
              "      <td>...</td>\n",
              "      <td>...</td>\n",
              "    </tr>\n",
              "    <tr>\n",
              "      <th>1649</th>\n",
              "      <td>1691</td>\n",
              "      <td>T-8</td>\n",
              "      <td>P-8</td>\n",
              "      <td>IFC_12_032</td>\n",
              "      <td>400</td>\n",
              "      <td>01/06/2010</td>\n",
              "      <td>26/09/2018</td>\n",
              "      <td>4</td>\n",
              "      <td>8</td>\n",
              "      <td>1</td>\n",
              "      <td>...</td>\n",
              "      <td>-2050786515</td>\n",
              "      <td>13.973804</td>\n",
              "      <td>3.230804</td>\n",
              "      <td>0.071562</td>\n",
              "      <td>3.224519</td>\n",
              "      <td>25.30</td>\n",
              "      <td>-1.880656</td>\n",
              "      <td>-1.880713</td>\n",
              "      <td>0.152481</td>\n",
              "      <td>0.152490</td>\n",
              "    </tr>\n",
              "    <tr>\n",
              "      <th>1650</th>\n",
              "      <td>1692</td>\n",
              "      <td>T-8</td>\n",
              "      <td>P-8</td>\n",
              "      <td>IFC_12_032</td>\n",
              "      <td>400</td>\n",
              "      <td>01/06/2010</td>\n",
              "      <td>26/09/2018</td>\n",
              "      <td>5</td>\n",
              "      <td>1</td>\n",
              "      <td>1</td>\n",
              "      <td>...</td>\n",
              "      <td>-2050786515</td>\n",
              "      <td>16.392959</td>\n",
              "      <td>3.328627</td>\n",
              "      <td>0.061002</td>\n",
              "      <td>3.326627</td>\n",
              "      <td>27.90</td>\n",
              "      <td>-1.500037</td>\n",
              "      <td>-1.500086</td>\n",
              "      <td>0.223111</td>\n",
              "      <td>0.223122</td>\n",
              "    </tr>\n",
              "    <tr>\n",
              "      <th>1651</th>\n",
              "      <td>1693</td>\n",
              "      <td>T-8</td>\n",
              "      <td>P-8</td>\n",
              "      <td>IFC_12_032</td>\n",
              "      <td>400</td>\n",
              "      <td>01/06/2010</td>\n",
              "      <td>26/09/2018</td>\n",
              "      <td>5</td>\n",
              "      <td>2</td>\n",
              "      <td>1</td>\n",
              "      <td>...</td>\n",
              "      <td>-2050786515</td>\n",
              "      <td>17.347889</td>\n",
              "      <td>3.377588</td>\n",
              "      <td>0.057644</td>\n",
              "      <td>3.347583</td>\n",
              "      <td>29.30</td>\n",
              "      <td>-1.350148</td>\n",
              "      <td>-1.350192</td>\n",
              "      <td>0.259190</td>\n",
              "      <td>0.259202</td>\n",
              "    </tr>\n",
              "    <tr>\n",
              "      <th>1652</th>\n",
              "      <td>1694</td>\n",
              "      <td>T-8</td>\n",
              "      <td>P-8</td>\n",
              "      <td>IFC_12_032</td>\n",
              "      <td>400</td>\n",
              "      <td>01/06/2010</td>\n",
              "      <td>26/09/2018</td>\n",
              "      <td>5</td>\n",
              "      <td>4</td>\n",
              "      <td>1</td>\n",
              "      <td>...</td>\n",
              "      <td>-2050786515</td>\n",
              "      <td>17.825354</td>\n",
              "      <td>3.230804</td>\n",
              "      <td>0.056100</td>\n",
              "      <td>3.332310</td>\n",
              "      <td>25.30</td>\n",
              "      <td>-1.456240</td>\n",
              "      <td>-1.456319</td>\n",
              "      <td>0.233093</td>\n",
              "      <td>0.233111</td>\n",
              "    </tr>\n",
              "    <tr>\n",
              "      <th>1653</th>\n",
              "      <td>1695</td>\n",
              "      <td>T-8</td>\n",
              "      <td>P-8</td>\n",
              "      <td>IFC_12_040</td>\n",
              "      <td>400</td>\n",
              "      <td>01/06/2010</td>\n",
              "      <td>26/09/2018</td>\n",
              "      <td>7</td>\n",
              "      <td>4</td>\n",
              "      <td>1</td>\n",
              "      <td>...</td>\n",
              "      <td>-2051046136</td>\n",
              "      <td>16.456621</td>\n",
              "      <td>NaN</td>\n",
              "      <td>0.060766</td>\n",
              "      <td>3.255446</td>\n",
              "      <td>25.93</td>\n",
              "      <td>-1.569820</td>\n",
              "      <td>-1.569886</td>\n",
              "      <td>0.208069</td>\n",
              "      <td>0.208083</td>\n",
              "    </tr>\n",
              "  </tbody>\n",
              "</table>\n",
              "<p>1654 rows × 24 columns</p>\n",
              "</div>\n",
              "      <button class=\"colab-df-convert\" onclick=\"convertToInteractive('df-1946fd79-32ec-464c-9267-00dd019c0c23')\"\n",
              "              title=\"Convert this dataframe to an interactive table.\"\n",
              "              style=\"display:none;\">\n",
              "        \n",
              "  <svg xmlns=\"http://www.w3.org/2000/svg\" height=\"24px\"viewBox=\"0 0 24 24\"\n",
              "       width=\"24px\">\n",
              "    <path d=\"M0 0h24v24H0V0z\" fill=\"none\"/>\n",
              "    <path d=\"M18.56 5.44l.94 2.06.94-2.06 2.06-.94-2.06-.94-.94-2.06-.94 2.06-2.06.94zm-11 1L8.5 8.5l.94-2.06 2.06-.94-2.06-.94L8.5 2.5l-.94 2.06-2.06.94zm10 10l.94 2.06.94-2.06 2.06-.94-2.06-.94-.94-2.06-.94 2.06-2.06.94z\"/><path d=\"M17.41 7.96l-1.37-1.37c-.4-.4-.92-.59-1.43-.59-.52 0-1.04.2-1.43.59L10.3 9.45l-7.72 7.72c-.78.78-.78 2.05 0 2.83L4 21.41c.39.39.9.59 1.41.59.51 0 1.02-.2 1.41-.59l7.78-7.78 2.81-2.81c.8-.78.8-2.07 0-2.86zM5.41 20L4 18.59l7.72-7.72 1.47 1.35L5.41 20z\"/>\n",
              "  </svg>\n",
              "      </button>\n",
              "      \n",
              "  <style>\n",
              "    .colab-df-container {\n",
              "      display:flex;\n",
              "      flex-wrap:wrap;\n",
              "      gap: 12px;\n",
              "    }\n",
              "\n",
              "    .colab-df-convert {\n",
              "      background-color: #E8F0FE;\n",
              "      border: none;\n",
              "      border-radius: 50%;\n",
              "      cursor: pointer;\n",
              "      display: none;\n",
              "      fill: #1967D2;\n",
              "      height: 32px;\n",
              "      padding: 0 0 0 0;\n",
              "      width: 32px;\n",
              "    }\n",
              "\n",
              "    .colab-df-convert:hover {\n",
              "      background-color: #E2EBFA;\n",
              "      box-shadow: 0px 1px 2px rgba(60, 64, 67, 0.3), 0px 1px 3px 1px rgba(60, 64, 67, 0.15);\n",
              "      fill: #174EA6;\n",
              "    }\n",
              "\n",
              "    [theme=dark] .colab-df-convert {\n",
              "      background-color: #3B4455;\n",
              "      fill: #D2E3FC;\n",
              "    }\n",
              "\n",
              "    [theme=dark] .colab-df-convert:hover {\n",
              "      background-color: #434B5C;\n",
              "      box-shadow: 0px 1px 3px 1px rgba(0, 0, 0, 0.15);\n",
              "      filter: drop-shadow(0px 1px 2px rgba(0, 0, 0, 0.3));\n",
              "      fill: #FFFFFF;\n",
              "    }\n",
              "  </style>\n",
              "\n",
              "      <script>\n",
              "        const buttonEl =\n",
              "          document.querySelector('#df-1946fd79-32ec-464c-9267-00dd019c0c23 button.colab-df-convert');\n",
              "        buttonEl.style.display =\n",
              "          google.colab.kernel.accessAllowed ? 'block' : 'none';\n",
              "\n",
              "        async function convertToInteractive(key) {\n",
              "          const element = document.querySelector('#df-1946fd79-32ec-464c-9267-00dd019c0c23');\n",
              "          const dataTable =\n",
              "            await google.colab.kernel.invokeFunction('convertToInteractive',\n",
              "                                                     [key], {});\n",
              "          if (!dataTable) return;\n",
              "\n",
              "          const docLinkHtml = 'Like what you see? Visit the ' +\n",
              "            '<a target=\"_blank\" href=https://colab.research.google.com/notebooks/data_table.ipynb>data table notebook</a>'\n",
              "            + ' to learn more about interactive tables.';\n",
              "          element.innerHTML = '';\n",
              "          dataTable['output_type'] = 'display_data';\n",
              "          await google.colab.output.renderOutput(dataTable, element);\n",
              "          const docLink = document.createElement('div');\n",
              "          docLink.innerHTML = docLinkHtml;\n",
              "          element.appendChild(docLink);\n",
              "        }\n",
              "      </script>\n",
              "    </div>\n",
              "  </div>\n",
              "  "
            ]
          },
          "metadata": {},
          "execution_count": 106
        }
      ]
    },
    {
      "cell_type": "code",
      "source": [
        "estima_volume.to_csv('CalculoErroamostragem.csv')"
      ],
      "metadata": {
        "id": "22-dt3iTMM-n"
      },
      "execution_count": null,
      "outputs": []
    },
    {
      "cell_type": "code",
      "source": [
        ""
      ],
      "metadata": {
        "id": "BkM4rRN4MNBE"
      },
      "execution_count": null,
      "outputs": []
    },
    {
      "cell_type": "code",
      "source": [
        ""
      ],
      "metadata": {
        "id": "3VuHZBM_L3wq"
      },
      "execution_count": null,
      "outputs": []
    }
  ]
}